{
 "cells": [
  {
   "cell_type": "markdown",
   "source": [
    "# Data Exploration\n",
    "### Data transformation"
   ],
   "metadata": {
    "collapsed": false
   },
   "id": "b90d52f02e16b057"
  },
  {
   "cell_type": "markdown",
   "source": [],
   "metadata": {
    "collapsed": false
   },
   "id": "2ea3e77a12991bfa"
  },
  {
   "cell_type": "code",
   "execution_count": 127,
   "id": "initial_id",
   "metadata": {
    "collapsed": true,
    "ExecuteTime": {
     "end_time": "2023-12-03T18:47:56.746390163Z",
     "start_time": "2023-12-03T18:47:56.637941720Z"
    }
   },
   "outputs": [],
   "source": [
    "import pandas as pd"
   ]
  },
  {
   "cell_type": "code",
   "execution_count": 128,
   "outputs": [],
   "source": [
    "dataset = pd.read_csv(\"data/raw/ml-100k/u.data\", sep='\\t', header=None)\n",
    "dataset.rename(columns={0: 'uid', 1: 'iid', 2: 'rating', 3: 'timestamp'}, inplace=True)"
   ],
   "metadata": {
    "collapsed": false,
    "ExecuteTime": {
     "end_time": "2023-12-03T18:47:56.746827015Z",
     "start_time": "2023-12-03T18:47:56.682582236Z"
    }
   },
   "id": "b2ac50f81c4305b"
  },
  {
   "cell_type": "code",
   "execution_count": 129,
   "outputs": [
    {
     "data": {
      "text/plain": "   uid  iid  rating  timestamp\n0  196  242       3  881250949",
      "text/html": "<div>\n<style scoped>\n    .dataframe tbody tr th:only-of-type {\n        vertical-align: middle;\n    }\n\n    .dataframe tbody tr th {\n        vertical-align: top;\n    }\n\n    .dataframe thead th {\n        text-align: right;\n    }\n</style>\n<table border=\"1\" class=\"dataframe\">\n  <thead>\n    <tr style=\"text-align: right;\">\n      <th></th>\n      <th>uid</th>\n      <th>iid</th>\n      <th>rating</th>\n      <th>timestamp</th>\n    </tr>\n  </thead>\n  <tbody>\n    <tr>\n      <th>0</th>\n      <td>196</td>\n      <td>242</td>\n      <td>3</td>\n      <td>881250949</td>\n    </tr>\n  </tbody>\n</table>\n</div>"
     },
     "execution_count": 129,
     "metadata": {},
     "output_type": "execute_result"
    }
   ],
   "source": [
    "dataset.head(1)"
   ],
   "metadata": {
    "collapsed": false,
    "ExecuteTime": {
     "end_time": "2023-12-03T18:47:56.748336991Z",
     "start_time": "2023-12-03T18:47:56.702540124Z"
    }
   },
   "id": "4b27d027fc223db2"
  },
  {
   "cell_type": "code",
   "execution_count": 130,
   "outputs": [
    {
     "data": {
      "text/plain": "   id        movie_name         date  \\\n0   1  Toy Story (1995)  01-Jan-1995   \n\n                                                 url  5  6  7  8  9  10  ...  \\\n0  http://us.imdb.com/M/title-exact?Toy%20Story%2...  0  0  0  1  1   1  ...   \n\n   14  15  16  17  18  19  20  21  22  23  \n0   0   0   0   0   0   0   0   0   0   0  \n\n[1 rows x 23 columns]",
      "text/html": "<div>\n<style scoped>\n    .dataframe tbody tr th:only-of-type {\n        vertical-align: middle;\n    }\n\n    .dataframe tbody tr th {\n        vertical-align: top;\n    }\n\n    .dataframe thead th {\n        text-align: right;\n    }\n</style>\n<table border=\"1\" class=\"dataframe\">\n  <thead>\n    <tr style=\"text-align: right;\">\n      <th></th>\n      <th>id</th>\n      <th>movie_name</th>\n      <th>date</th>\n      <th>url</th>\n      <th>5</th>\n      <th>6</th>\n      <th>7</th>\n      <th>8</th>\n      <th>9</th>\n      <th>10</th>\n      <th>...</th>\n      <th>14</th>\n      <th>15</th>\n      <th>16</th>\n      <th>17</th>\n      <th>18</th>\n      <th>19</th>\n      <th>20</th>\n      <th>21</th>\n      <th>22</th>\n      <th>23</th>\n    </tr>\n  </thead>\n  <tbody>\n    <tr>\n      <th>0</th>\n      <td>1</td>\n      <td>Toy Story (1995)</td>\n      <td>01-Jan-1995</td>\n      <td>http://us.imdb.com/M/title-exact?Toy%20Story%2...</td>\n      <td>0</td>\n      <td>0</td>\n      <td>0</td>\n      <td>1</td>\n      <td>1</td>\n      <td>1</td>\n      <td>...</td>\n      <td>0</td>\n      <td>0</td>\n      <td>0</td>\n      <td>0</td>\n      <td>0</td>\n      <td>0</td>\n      <td>0</td>\n      <td>0</td>\n      <td>0</td>\n      <td>0</td>\n    </tr>\n  </tbody>\n</table>\n<p>1 rows × 23 columns</p>\n</div>"
     },
     "execution_count": 130,
     "metadata": {},
     "output_type": "execute_result"
    }
   ],
   "source": [
    "movies_df = pd.read_csv(f'data/raw/ml-100k/u.item',\n",
    "                        sep='|', header=None, encoding='ISO-8859-1')\n",
    "names=[\"id\", 'movie_name', 'date', 'drop', \"url\",]\n",
    "movies_df.rename(columns={0: 'id', 1: 'movie_name', 2: 'date', 3: 'drop', 4:\"url\"}, inplace=True)\n",
    "movies_df.drop(columns=['drop'], inplace=True)\n",
    "movies_df.head(1)"
   ],
   "metadata": {
    "collapsed": false,
    "ExecuteTime": {
     "end_time": "2023-12-03T18:47:56.807873630Z",
     "start_time": "2023-12-03T18:47:56.712594317Z"
    }
   },
   "id": "afd1ba5643e2d84c"
  },
  {
   "cell_type": "code",
   "execution_count": 131,
   "outputs": [],
   "source": [
    "genre_df = pd.read_csv(f'data/raw/ml-100k/u.genre',\n",
    "                        sep='|', header=None, encoding='ISO-8859-1')\n",
    "genre_df.rename(columns={0: 'genre', 1: 'id', }, inplace=True)"
   ],
   "metadata": {
    "collapsed": false,
    "ExecuteTime": {
     "end_time": "2023-12-03T18:47:56.881684328Z",
     "start_time": "2023-12-03T18:47:56.751728264Z"
    }
   },
   "id": "d39354531399dce6"
  },
  {
   "cell_type": "code",
   "execution_count": 132,
   "outputs": [
    {
     "data": {
      "text/plain": "     genre  id\n0  unknown   0",
      "text/html": "<div>\n<style scoped>\n    .dataframe tbody tr th:only-of-type {\n        vertical-align: middle;\n    }\n\n    .dataframe tbody tr th {\n        vertical-align: top;\n    }\n\n    .dataframe thead th {\n        text-align: right;\n    }\n</style>\n<table border=\"1\" class=\"dataframe\">\n  <thead>\n    <tr style=\"text-align: right;\">\n      <th></th>\n      <th>genre</th>\n      <th>id</th>\n    </tr>\n  </thead>\n  <tbody>\n    <tr>\n      <th>0</th>\n      <td>unknown</td>\n      <td>0</td>\n    </tr>\n  </tbody>\n</table>\n</div>"
     },
     "execution_count": 132,
     "metadata": {},
     "output_type": "execute_result"
    }
   ],
   "source": [
    "genre_df.head(1)"
   ],
   "metadata": {
    "collapsed": false,
    "ExecuteTime": {
     "end_time": "2023-12-03T18:47:56.882990130Z",
     "start_time": "2023-12-03T18:47:56.794520464Z"
    }
   },
   "id": "6771aead32bf9363"
  },
  {
   "cell_type": "code",
   "execution_count": null,
   "outputs": [],
   "source": [
    "df_temp = pd.DataFrame(columns=[\"genre\"])\n",
    "\n",
    "for i in range(5, 24):\n",
    "    movies_df.loc[movies_df[i] == 1, i] = genre_df.iloc[i-5:i-4, [0]].iloc[0][\"genre\"]\n",
    "    movies_df.loc[movies_df[i] == 0, i] = None"
   ],
   "metadata": {
    "collapsed": false
   },
   "id": "174b67feb5110f28"
  },
  {
   "cell_type": "code",
   "execution_count": 134,
   "outputs": [
    {
     "data": {
      "text/plain": "   id        movie_name         date  \\\n0   1  Toy Story (1995)  01-Jan-1995   \n\n                                                 url     5     6     7  \\\n0  http://us.imdb.com/M/title-exact?Toy%20Story%2...  None  None  None   \n\n           8           9      10  ...    14    15    16    17    18    19  \\\n0  Animation  Children's  Comedy  ...  None  None  None  None  None  None   \n\n     20    21    22    23  \n0  None  None  None  None  \n\n[1 rows x 23 columns]",
      "text/html": "<div>\n<style scoped>\n    .dataframe tbody tr th:only-of-type {\n        vertical-align: middle;\n    }\n\n    .dataframe tbody tr th {\n        vertical-align: top;\n    }\n\n    .dataframe thead th {\n        text-align: right;\n    }\n</style>\n<table border=\"1\" class=\"dataframe\">\n  <thead>\n    <tr style=\"text-align: right;\">\n      <th></th>\n      <th>id</th>\n      <th>movie_name</th>\n      <th>date</th>\n      <th>url</th>\n      <th>5</th>\n      <th>6</th>\n      <th>7</th>\n      <th>8</th>\n      <th>9</th>\n      <th>10</th>\n      <th>...</th>\n      <th>14</th>\n      <th>15</th>\n      <th>16</th>\n      <th>17</th>\n      <th>18</th>\n      <th>19</th>\n      <th>20</th>\n      <th>21</th>\n      <th>22</th>\n      <th>23</th>\n    </tr>\n  </thead>\n  <tbody>\n    <tr>\n      <th>0</th>\n      <td>1</td>\n      <td>Toy Story (1995)</td>\n      <td>01-Jan-1995</td>\n      <td>http://us.imdb.com/M/title-exact?Toy%20Story%2...</td>\n      <td>None</td>\n      <td>None</td>\n      <td>None</td>\n      <td>Animation</td>\n      <td>Children's</td>\n      <td>Comedy</td>\n      <td>...</td>\n      <td>None</td>\n      <td>None</td>\n      <td>None</td>\n      <td>None</td>\n      <td>None</td>\n      <td>None</td>\n      <td>None</td>\n      <td>None</td>\n      <td>None</td>\n      <td>None</td>\n    </tr>\n  </tbody>\n</table>\n<p>1 rows × 23 columns</p>\n</div>"
     },
     "execution_count": 134,
     "metadata": {},
     "output_type": "execute_result"
    }
   ],
   "source": [
    "movies_df.head(1)"
   ],
   "metadata": {
    "collapsed": false,
    "ExecuteTime": {
     "end_time": "2023-12-03T18:47:57.020761956Z",
     "start_time": "2023-12-03T18:47:56.882543290Z"
    }
   },
   "id": "282824853db54b68"
  },
  {
   "cell_type": "code",
   "execution_count": 135,
   "outputs": [
    {
     "data": {
      "text/plain": "'Action'"
     },
     "execution_count": 135,
     "metadata": {},
     "output_type": "execute_result"
    }
   ],
   "source": [
    "genre_df.iloc[6-5:7-5, [0]].iloc[0][\"genre\"]"
   ],
   "metadata": {
    "collapsed": false,
    "ExecuteTime": {
     "end_time": "2023-12-03T18:47:57.021207672Z",
     "start_time": "2023-12-03T18:47:56.882902593Z"
    }
   },
   "id": "7799d5d96f2a1fd9"
  },
  {
   "cell_type": "code",
   "execution_count": 136,
   "outputs": [
    {
     "data": {
      "text/plain": "   id  age gender  occupation    zip\n0   1   24      M  technician  85711",
      "text/html": "<div>\n<style scoped>\n    .dataframe tbody tr th:only-of-type {\n        vertical-align: middle;\n    }\n\n    .dataframe tbody tr th {\n        vertical-align: top;\n    }\n\n    .dataframe thead th {\n        text-align: right;\n    }\n</style>\n<table border=\"1\" class=\"dataframe\">\n  <thead>\n    <tr style=\"text-align: right;\">\n      <th></th>\n      <th>id</th>\n      <th>age</th>\n      <th>gender</th>\n      <th>occupation</th>\n      <th>zip</th>\n    </tr>\n  </thead>\n  <tbody>\n    <tr>\n      <th>0</th>\n      <td>1</td>\n      <td>24</td>\n      <td>M</td>\n      <td>technician</td>\n      <td>85711</td>\n    </tr>\n  </tbody>\n</table>\n</div>"
     },
     "execution_count": 136,
     "metadata": {},
     "output_type": "execute_result"
    }
   ],
   "source": [
    "user_df = pd.read_csv(f'data/raw/ml-100k/u.user',\n",
    "                        sep='|', header=None, encoding='ISO-8859-1')\n",
    "user_df.rename(columns={0: 'id', 1: 'age', 2: 'gender', 3: 'occupation', 4:\"zip\"}, inplace=True)\n",
    "user_df.head(1)"
   ],
   "metadata": {
    "collapsed": false,
    "ExecuteTime": {
     "end_time": "2023-12-03T18:47:57.105120975Z",
     "start_time": "2023-12-03T18:47:56.883231322Z"
    }
   },
   "id": "4a1827732e0c66a7"
  },
  {
   "cell_type": "markdown",
   "source": [
    "## Merge datasets into one"
   ],
   "metadata": {
    "collapsed": false
   },
   "id": "3b13e9449c1b2218"
  },
  {
   "cell_type": "code",
   "execution_count": 139,
   "outputs": [
    {
     "data": {
      "text/plain": "   uid  iid  rating  timestamp    movie_name         date  \\\n0  196  242       3  881250949  Kolya (1996)  24-Jan-1997   \n\n                                               url     5     6     7  ...  \\\n0  http://us.imdb.com/M/title-exact?Kolya%20(1996)  None  None  None  ...   \n\n     18    19    20    21    22    23 age gender occupation    zip  \n0  None  None  None  None  None  None  49      M     writer  55105  \n\n[1 rows x 30 columns]",
      "text/html": "<div>\n<style scoped>\n    .dataframe tbody tr th:only-of-type {\n        vertical-align: middle;\n    }\n\n    .dataframe tbody tr th {\n        vertical-align: top;\n    }\n\n    .dataframe thead th {\n        text-align: right;\n    }\n</style>\n<table border=\"1\" class=\"dataframe\">\n  <thead>\n    <tr style=\"text-align: right;\">\n      <th></th>\n      <th>uid</th>\n      <th>iid</th>\n      <th>rating</th>\n      <th>timestamp</th>\n      <th>movie_name</th>\n      <th>date</th>\n      <th>url</th>\n      <th>5</th>\n      <th>6</th>\n      <th>7</th>\n      <th>...</th>\n      <th>18</th>\n      <th>19</th>\n      <th>20</th>\n      <th>21</th>\n      <th>22</th>\n      <th>23</th>\n      <th>age</th>\n      <th>gender</th>\n      <th>occupation</th>\n      <th>zip</th>\n    </tr>\n  </thead>\n  <tbody>\n    <tr>\n      <th>0</th>\n      <td>196</td>\n      <td>242</td>\n      <td>3</td>\n      <td>881250949</td>\n      <td>Kolya (1996)</td>\n      <td>24-Jan-1997</td>\n      <td>http://us.imdb.com/M/title-exact?Kolya%20(1996)</td>\n      <td>None</td>\n      <td>None</td>\n      <td>None</td>\n      <td>...</td>\n      <td>None</td>\n      <td>None</td>\n      <td>None</td>\n      <td>None</td>\n      <td>None</td>\n      <td>None</td>\n      <td>49</td>\n      <td>M</td>\n      <td>writer</td>\n      <td>55105</td>\n    </tr>\n  </tbody>\n</table>\n<p>1 rows × 30 columns</p>\n</div>"
     },
     "execution_count": 139,
     "metadata": {},
     "output_type": "execute_result"
    }
   ],
   "source": [
    "combined_ratings_df = dataset.merge(movies_df, left_on='iid', right_on=\"id\") #, user_df, on='user_id')\n",
    "combined_ratings_df.drop(columns=[\"id\"], inplace=True)\n",
    "\n",
    "\n",
    "combined_ratings_df = combined_ratings_df.merge(user_df, left_on='uid', right_on=\"id\")\n",
    "combined_ratings_df.drop(columns=[\"id\"], inplace=True)\n",
    "combined_ratings_df.head(1)"
   ],
   "metadata": {
    "collapsed": false,
    "ExecuteTime": {
     "end_time": "2023-12-03T18:59:51.057947710Z",
     "start_time": "2023-12-03T18:59:50.814955831Z"
    }
   },
   "id": "d2902963b3049389"
  },
  {
   "cell_type": "code",
   "execution_count": 138,
   "outputs": [],
   "source": [
    "combined_ratings_df.to_csv(\"merged_dataset.csv\")"
   ],
   "metadata": {
    "collapsed": false,
    "ExecuteTime": {
     "end_time": "2023-12-03T18:47:58.650582284Z",
     "start_time": "2023-12-03T18:47:57.209038949Z"
    }
   },
   "id": "b004082f3d7fe51c"
  }
 ],
 "metadata": {
  "kernelspec": {
   "display_name": "Python 3",
   "language": "python",
   "name": "python3"
  },
  "language_info": {
   "codemirror_mode": {
    "name": "ipython",
    "version": 2
   },
   "file_extension": ".py",
   "mimetype": "text/x-python",
   "name": "python",
   "nbconvert_exporter": "python",
   "pygments_lexer": "ipython2",
   "version": "2.7.6"
  }
 },
 "nbformat": 4,
 "nbformat_minor": 5
}
